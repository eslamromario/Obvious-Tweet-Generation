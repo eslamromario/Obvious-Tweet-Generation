{
 "cells": [
  {
   "cell_type": "markdown",
   "metadata": {},
   "source": [
    "# @ObviousOstrich Generation Experiment\n",
    "- @obviousostrich is a twitter account [here](!https://twitter.com/search?q=obvious%20ostrich&src=tyah)\n",
    "- Collected all it's tweets 17k tweets using Twitter API.\n",
    "- I wanted to do a small text generation experiment anyway. \n",
    "- **I was skeptical how a bigram-trigram model will work on a little dataset like this. It works nice on reuters dataset.**\n",
    "- **Surprisingly, it does okay.** The reason is the same reason I thought it would fail i.e. it has very little repeatition of words, so it has merged two or max three tweets into one, generating some funny obvious work.\n",
    "- The **biggest downside** of working on this small a dataset is that sometimes it just produces the exaact tweet.\n"
   ]
  },
  {
   "cell_type": "code",
   "execution_count": 2,
   "metadata": {
    "collapsed": true
   },
   "outputs": [],
   "source": [
    "import pandas as pd"
   ]
  },
  {
   "cell_type": "code",
   "execution_count": 6,
   "metadata": {},
   "outputs": [],
   "source": [
    "df = pd.read_csv('procpos.csv')"
   ]
  },
  {
   "cell_type": "code",
   "execution_count": 109,
   "metadata": {},
   "outputs": [
    {
     "data": {
      "text/html": [
       "<div>\n",
       "<style>\n",
       "    .dataframe thead tr:only-child th {\n",
       "        text-align: right;\n",
       "    }\n",
       "\n",
       "    .dataframe thead th {\n",
       "        text-align: left;\n",
       "    }\n",
       "\n",
       "    .dataframe tbody tr th {\n",
       "        vertical-align: top;\n",
       "    }\n",
       "</style>\n",
       "<table border=\"1\" class=\"dataframe\">\n",
       "  <thead>\n",
       "    <tr style=\"text-align: right;\">\n",
       "      <th></th>\n",
       "      <th>tweets</th>\n",
       "    </tr>\n",
       "  </thead>\n",
       "  <tbody>\n",
       "    <tr>\n",
       "      <th>0</th>\n",
       "      <td>You were born on your birthday.</td>\n",
       "    </tr>\n",
       "    <tr>\n",
       "      <th>1</th>\n",
       "      <td>In a year from now, you'll be a year older tha...</td>\n",
       "    </tr>\n",
       "    <tr>\n",
       "      <th>2</th>\n",
       "      <td>Your chances of getting into an accident incre...</td>\n",
       "    </tr>\n",
       "  </tbody>\n",
       "</table>\n",
       "</div>"
      ],
      "text/plain": [
       "                                              tweets\n",
       "0                    You were born on your birthday.\n",
       "1  In a year from now, you'll be a year older tha...\n",
       "2  Your chances of getting into an accident incre..."
      ]
     },
     "execution_count": 109,
     "metadata": {},
     "output_type": "execute_result"
    }
   ],
   "source": [
    "df.head(3)"
   ]
  },
  {
   "cell_type": "code",
   "execution_count": 23,
   "metadata": {
    "collapsed": true
   },
   "outputs": [],
   "source": [
    "import spacy\n",
    "nlp = spacy.load('en')"
   ]
  },
  {
   "cell_type": "code",
   "execution_count": 62,
   "metadata": {},
   "outputs": [
    {
     "name": "stdout",
     "output_type": "stream",
     "text": [
      "1699 1699\n"
     ]
    }
   ],
   "source": [
    "tweets = []\n",
    "tweet_wordlist = [] #for a list of list representation of sentences i.e. each list of words is a sentence.\n",
    "\n",
    "#everything to lowercase\n",
    "for row in df['tweets']:\n",
    "    tweets.append(row.lower())\n",
    "    \n",
    "for ind,tweet in enumerate(tweets):\n",
    "    doc = nlp(unicode(tweet))\n",
    "    tweet_wordlist.append([])\n",
    "    for token in doc:\n",
    "        if not token.like_url and not token.is_punct: #filter out urls and punctuations\n",
    "            tweet_wordlist[ind].append(token.text) \n",
    "\n",
    "#both should be equal\n",
    "print len(tweets),len(tweet_wordlist) "
   ]
  },
  {
   "cell_type": "code",
   "execution_count": 63,
   "metadata": {},
   "outputs": [
    {
     "name": "stdout",
     "output_type": "stream",
     "text": [
      "[u'you', u'were', u'born', u'on', u'your', u'birthday']\n",
      "[(u'you', u'were'), (u'were', u'born'), (u'born', u'on'), (u'on', u'your'), (u'your', u'birthday')]\n",
      "[(None, u'you'), (u'you', u'were'), (u'were', u'born'), (u'born', u'on'), (u'on', u'your'), (u'your', u'birthday'), (u'birthday', None)]\n",
      "[(u'you', u'were', u'born'), (u'were', u'born', u'on'), (u'born', u'on', u'your'), (u'on', u'your', u'birthday')]\n",
      "[(None, None, u'you'), (None, u'you', u'were'), (u'you', u'were', u'born'), (u'were', u'born', u'on'), (u'born', u'on', u'your'), (u'on', u'your', u'birthday'), (u'your', u'birthday', None), (u'birthday', None, None)]\n"
     ]
    }
   ],
   "source": [
    "from nltk import bigrams, trigrams\n",
    "from collections import defaultdict\n",
    "\n",
    "#checking out stuff...\n",
    "first_sentence = tweet_wordlist[0]\n",
    "print first_sentence \n",
    " \n",
    "# Get the bigrams\n",
    "print list(bigrams(first_sentence)) \n",
    "\n",
    "# Get the padded bigrams\n",
    "print list(bigrams(first_sentence, pad_left=True, pad_right=True)) \n",
    "\n",
    "# Get the trigrams\n",
    "print list(trigrams(first_sentence))\n",
    "\n",
    "# Get the padded trigrams\n",
    "print list(trigrams(first_sentence, pad_left=True, pad_right=True))"
   ]
  },
  {
   "cell_type": "code",
   "execution_count": 110,
   "metadata": {},
   "outputs": [
    {
     "name": "stdout",
     "output_type": "stream",
     "text": [
      "128\n"
     ]
    }
   ],
   "source": [
    "model = defaultdict(lambda: defaultdict(lambda: 0))\n",
    "\n",
    "for tweet in tweet_wordlist:\n",
    "    for w1, w2, w3 in trigrams(tweet, pad_right=True, pad_left=True):\n",
    "        #print w1,w2,w3\n",
    "        model[(w1, w2)][w3] += 1\n",
    "\n",
    "'''how many tweets start with 'you'?'''\n",
    "print model[None, None][\"you\"] \n",
    " \n",
    "# Let's transform the counts to probabilities.\n",
    "for w1_w2 in model:\n",
    "    total_count = float(sum(model[w1_w2].values()))\n",
    "    for w3 in model[w1_w2]:\n",
    "        model[w1_w2][w3] /= total_count\n"
   ]
  },
  {
   "cell_type": "code",
   "execution_count": 100,
   "metadata": {},
   "outputs": [
    {
     "name": "stdout",
     "output_type": "stream",
     "text": [
      "earphones are n't the greatest present to give to a tree\n"
     ]
    }
   ],
   "source": [
    "#ran repeatedly to generate 24 samples\n",
    "import random\n",
    "\n",
    "text = [None, None]\n",
    "sentence_finished = False\n",
    "\n",
    "while not sentence_finished:\n",
    "    r = random.random()\n",
    "    accumulator = .0\n",
    " \n",
    "    for word in model[tuple(text[-2:])].keys():\n",
    "        accumulator += model[tuple(text[-2:])][word]\n",
    " \n",
    "        if accumulator >= r:\n",
    "            text.append(word)\n",
    "            break\n",
    " \n",
    "    if text[-2:] == [None, None]:\n",
    "        sentence_finished = True\n",
    " \n",
    "print ' '.join([t for t in text if t])"
   ]
  },
  {
   "cell_type": "markdown",
   "metadata": {},
   "source": [
    "# Results: Broad classification of Random 24 samples generated\n",
    "\n",
    "### Type 1: Obvious tweets which actually make sense were generated :)\n",
    "``` \n",
    "produced = original tweet1 + original tweet2 + ... \n",
    "```\n",
    "1. **cows do not have a gender** = Cows do not meow + ketchup doesn't have a gender\n",
    "2. **birds like to smoke weed** = birds like to fly + Wiz Khalifa and Snoop Dogg like to smoke weed.\n",
    "3. **hot chocolate is not red** = Hot chocolate is not a chilled beverage.+ The color blue is not red.\n",
    "4. **butterflies are not good at math** = Butterflies are not made of butter + cows are not good at math\n",
    "5. **elephants are not a plant that grows eggs** = Elephants are not fish + An eggplant is not a plant that grows eggs.\n",
    "6. **you should not drink boiling water is very hot** = You should not drink boiling water + Studies show that fire is very hot.\n",
    "7. **sunscreen will not quench your thirst** = Sunscreen will not work if you eat it. + Eating sand will not quench your thirst.\n",
    "8. **butterflies are not good for your health** = Butterflies are not made of butter + Smoking crack is not good for your health.\n",
    "9. **earphones are n't the greatest present to give to a tree** = Earphones aren't the greatest present to give to a deaf person. + It is very difficult to staple water to a tree.\n",
    "10. **if you jump in front of a window you can jump in a burger king** = If you jump in front of a train, there's a good chance you'll die.+ If you walk into your home and it looks exactly like a Burger King, then you might be in a Burger King.'''\n",
    "\n",
    "Even some sarcastic taunts :)\n",
    "\n",
    "11. **take your age and add 5 to it that is your exact age** = Take your age and add 5 to it. That is your age in 5 years. + Take your age and subtract 2 then add 2. That is your exact age.\n",
    "\n",
    "### Type 2: 100% Original tweets regenerated\n",
    "\n",
    "12. 100% of divorced men were once married \n",
    "13. sharks eat more people than potatoes do\n",
    "14. bottled water contains water\n",
    "15. do n't set your house on fire\n",
    "\n",
    "### Type 3: Incoherent or little sensible tweets\n",
    "16. this is a great way to stop yourself from dying\n",
    "17. according to recent studies suggest that there are at least one friend\n",
    "18. if you pour water on the ground side by side you would be dead\n",
    "19. according to recent studies suggest that there are 4 letters of the time water will get you drunk\n",
    "20. age is not monday\n",
    "21. it is not actually mean there is a once in a six pack of beer\n",
    "22. breathing is something that you have wet hands\n",
    "23. apple does not actually made out of a window\n",
    "24. when you have taken a breath within the last three seconds you will probably hurt\n"
   ]
  }
 ],
 "metadata": {
  "kernelspec": {
   "display_name": "Python 2",
   "language": "python",
   "name": "python2"
  },
  "language_info": {
   "codemirror_mode": {
    "name": "ipython",
    "version": 2
   },
   "file_extension": ".py",
   "mimetype": "text/x-python",
   "name": "python",
   "nbconvert_exporter": "python",
   "pygments_lexer": "ipython2",
   "version": "2.7.12"
  }
 },
 "nbformat": 4,
 "nbformat_minor": 2
}
